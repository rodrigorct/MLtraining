{
 "cells": [
  {
   "cell_type": "markdown",
   "metadata": {},
   "source": [
    "# Time Series Project"
   ]
  },
  {
   "cell_type": "markdown",
   "metadata": {},
   "source": [
    "This dataset was prepared to represent transactions performed in a dummy payments application.\n",
    "\n",
    "The final result must be a projection of the monthly volume transacted for\n",
    "the next 3 months (counting from the month of the last transaction\n",
    "completed).\n",
    "\n",
    "Before proceeding, it is mandatory a previous description of each column, according to the dataset source:\n",
    "\n",
    "• transaction_id: Unique id for transactions\n",
    "\n",
    "• payer_id: Paying user's unique id\n",
    "\n",
    "• payee_id: Unique id of the receiving user**\n",
    "\n",
    "• value: transaction amount\n",
    "\n",
    "• discount: Discount amount received on transaction\n",
    "\n",
    "• transaction_date: When the transaction was performed\n",
    "\n",
    "• type: Transaction feature**\n",
    "\n",
    "** Transactions of type = P2P represent the payments done from one user to another.\n",
    "In these cases, payee_id is the unique id of the receiving user. \n"
   ]
  },
  {
   "cell_type": "markdown",
   "metadata": {},
   "source": [
    "## Dados e Configuração"
   ]
  },
  {
   "cell_type": "code",
   "execution_count": 1,
   "metadata": {},
   "outputs": [],
   "source": [
    "import pandas as pd\n",
    "series = pd.read_csv('Timeseries_dateset.csv')"
   ]
  },
  {
   "cell_type": "code",
   "execution_count": 2,
   "metadata": {},
   "outputs": [
    {
     "data": {
      "text/plain": [
       "pandas.core.frame.DataFrame"
      ]
     },
     "execution_count": 2,
     "metadata": {},
     "output_type": "execute_result"
    }
   ],
   "source": [
    "type(series)"
   ]
  },
  {
   "cell_type": "code",
   "execution_count": 3,
   "metadata": {},
   "outputs": [
    {
     "data": {
      "text/html": [
       "<div>\n",
       "<style scoped>\n",
       "    .dataframe tbody tr th:only-of-type {\n",
       "        vertical-align: middle;\n",
       "    }\n",
       "\n",
       "    .dataframe tbody tr th {\n",
       "        vertical-align: top;\n",
       "    }\n",
       "\n",
       "    .dataframe thead th {\n",
       "        text-align: right;\n",
       "    }\n",
       "</style>\n",
       "<table border=\"1\" class=\"dataframe\">\n",
       "  <thead>\n",
       "    <tr style=\"text-align: right;\">\n",
       "      <th></th>\n",
       "      <th>transaction_id</th>\n",
       "      <th>payer_id</th>\n",
       "      <th>payee_id</th>\n",
       "      <th>value</th>\n",
       "      <th>discount</th>\n",
       "      <th>transaction_date</th>\n",
       "      <th>type</th>\n",
       "    </tr>\n",
       "  </thead>\n",
       "  <tbody>\n",
       "    <tr>\n",
       "      <th>1215219</th>\n",
       "      <td>51539704470</td>\n",
       "      <td>430655459</td>\n",
       "      <td>216460809</td>\n",
       "      <td>120.0</td>\n",
       "      <td>0.0</td>\n",
       "      <td>2017-04-10</td>\n",
       "      <td>P2P</td>\n",
       "    </tr>\n",
       "    <tr>\n",
       "      <th>1215220</th>\n",
       "      <td>51539704471</td>\n",
       "      <td>-1792141382</td>\n",
       "      <td>-235440250</td>\n",
       "      <td>20.0</td>\n",
       "      <td>0.0</td>\n",
       "      <td>2017-04-10</td>\n",
       "      <td>P2P</td>\n",
       "    </tr>\n",
       "    <tr>\n",
       "      <th>1215221</th>\n",
       "      <td>51539704472</td>\n",
       "      <td>-368948029</td>\n",
       "      <td>-267874618</td>\n",
       "      <td>20.0</td>\n",
       "      <td>0.0</td>\n",
       "      <td>2017-04-11</td>\n",
       "      <td>P2P</td>\n",
       "    </tr>\n",
       "    <tr>\n",
       "      <th>1215222</th>\n",
       "      <td>51539704473</td>\n",
       "      <td>-1588059460</td>\n",
       "      <td>566589435</td>\n",
       "      <td>8.5</td>\n",
       "      <td>0.0</td>\n",
       "      <td>2017-04-11</td>\n",
       "      <td>P2P</td>\n",
       "    </tr>\n",
       "    <tr>\n",
       "      <th>1215223</th>\n",
       "      <td>51539704474</td>\n",
       "      <td>-1020204888</td>\n",
       "      <td>-99684617</td>\n",
       "      <td>10.0</td>\n",
       "      <td>0.0</td>\n",
       "      <td>2017-04-11</td>\n",
       "      <td>P2P</td>\n",
       "    </tr>\n",
       "  </tbody>\n",
       "</table>\n",
       "</div>"
      ],
      "text/plain": [
       "         transaction_id    payer_id   payee_id  value  discount  \\\n",
       "1215219     51539704470   430655459  216460809  120.0       0.0   \n",
       "1215220     51539704471 -1792141382 -235440250   20.0       0.0   \n",
       "1215221     51539704472  -368948029 -267874618   20.0       0.0   \n",
       "1215222     51539704473 -1588059460  566589435    8.5       0.0   \n",
       "1215223     51539704474 -1020204888  -99684617   10.0       0.0   \n",
       "\n",
       "        transaction_date type  \n",
       "1215219       2017-04-10  P2P  \n",
       "1215220       2017-04-10  P2P  \n",
       "1215221       2017-04-11  P2P  \n",
       "1215222       2017-04-11  P2P  \n",
       "1215223       2017-04-11  P2P  "
      ]
     },
     "execution_count": 3,
     "metadata": {},
     "output_type": "execute_result"
    }
   ],
   "source": [
    "series.tail()"
   ]
  },
  {
   "cell_type": "code",
   "execution_count": 4,
   "metadata": {},
   "outputs": [
    {
     "data": {
      "text/html": [
       "<div>\n",
       "<style scoped>\n",
       "    .dataframe tbody tr th:only-of-type {\n",
       "        vertical-align: middle;\n",
       "    }\n",
       "\n",
       "    .dataframe tbody tr th {\n",
       "        vertical-align: top;\n",
       "    }\n",
       "\n",
       "    .dataframe thead th {\n",
       "        text-align: right;\n",
       "    }\n",
       "</style>\n",
       "<table border=\"1\" class=\"dataframe\">\n",
       "  <thead>\n",
       "    <tr style=\"text-align: right;\">\n",
       "      <th></th>\n",
       "      <th>transaction_id</th>\n",
       "      <th>payer_id</th>\n",
       "      <th>payee_id</th>\n",
       "      <th>value</th>\n",
       "      <th>discount</th>\n",
       "      <th>transaction_date</th>\n",
       "      <th>type</th>\n",
       "    </tr>\n",
       "  </thead>\n",
       "  <tbody>\n",
       "    <tr>\n",
       "      <th>0</th>\n",
       "      <td>8589934592</td>\n",
       "      <td>-73388700</td>\n",
       "      <td>0</td>\n",
       "      <td>164.00</td>\n",
       "      <td>0.0</td>\n",
       "      <td>2017-11-28</td>\n",
       "      <td>ECOMMERCE</td>\n",
       "    </tr>\n",
       "    <tr>\n",
       "      <th>1</th>\n",
       "      <td>8589934593</td>\n",
       "      <td>89540967</td>\n",
       "      <td>0</td>\n",
       "      <td>2.10</td>\n",
       "      <td>0.0</td>\n",
       "      <td>2017-11-28</td>\n",
       "      <td>TRANSPORTATION</td>\n",
       "    </tr>\n",
       "    <tr>\n",
       "      <th>2</th>\n",
       "      <td>8589934594</td>\n",
       "      <td>159713446</td>\n",
       "      <td>0</td>\n",
       "      <td>3.50</td>\n",
       "      <td>0.0</td>\n",
       "      <td>2017-11-28</td>\n",
       "      <td>TRANSPORTATION</td>\n",
       "    </tr>\n",
       "    <tr>\n",
       "      <th>3</th>\n",
       "      <td>8589934595</td>\n",
       "      <td>8733054</td>\n",
       "      <td>0</td>\n",
       "      <td>8.25</td>\n",
       "      <td>0.0</td>\n",
       "      <td>2017-11-28</td>\n",
       "      <td>GAS</td>\n",
       "    </tr>\n",
       "    <tr>\n",
       "      <th>4</th>\n",
       "      <td>8589934596</td>\n",
       "      <td>131670186</td>\n",
       "      <td>0</td>\n",
       "      <td>424.46</td>\n",
       "      <td>0.0</td>\n",
       "      <td>2017-11-28</td>\n",
       "      <td>HOUSING</td>\n",
       "    </tr>\n",
       "  </tbody>\n",
       "</table>\n",
       "</div>"
      ],
      "text/plain": [
       "   transaction_id   payer_id  payee_id   value  discount transaction_date  \\\n",
       "0      8589934592  -73388700         0  164.00       0.0       2017-11-28   \n",
       "1      8589934593   89540967         0    2.10       0.0       2017-11-28   \n",
       "2      8589934594  159713446         0    3.50       0.0       2017-11-28   \n",
       "3      8589934595    8733054         0    8.25       0.0       2017-11-28   \n",
       "4      8589934596  131670186         0  424.46       0.0       2017-11-28   \n",
       "\n",
       "             type  \n",
       "0       ECOMMERCE  \n",
       "1  TRANSPORTATION  \n",
       "2  TRANSPORTATION  \n",
       "3             GAS  \n",
       "4         HOUSING  "
      ]
     },
     "execution_count": 4,
     "metadata": {},
     "output_type": "execute_result"
    }
   ],
   "source": [
    "series.head()"
   ]
  },
  {
   "cell_type": "code",
   "execution_count": 5,
   "metadata": {},
   "outputs": [],
   "source": [
    "from pandas import read_csv\n",
    "series = read_csv('Timeseries_dateset.csv', header=0, index_col=5, parse_dates=True, squeeze=True)"
   ]
  },
  {
   "cell_type": "code",
   "execution_count": 6,
   "metadata": {},
   "outputs": [],
   "source": [
    "series.drop('payer_id',axis=1,inplace=True)"
   ]
  },
  {
   "cell_type": "code",
   "execution_count": 7,
   "metadata": {},
   "outputs": [],
   "source": [
    "series.drop('type',axis=1,inplace=True)"
   ]
  },
  {
   "cell_type": "code",
   "execution_count": 8,
   "metadata": {},
   "outputs": [],
   "source": [
    "series.drop('payee_id',axis=1,inplace=True)"
   ]
  },
  {
   "cell_type": "code",
   "execution_count": 9,
   "metadata": {},
   "outputs": [],
   "source": [
    "series.drop('discount',axis=1,inplace=True)"
   ]
  },
  {
   "cell_type": "code",
   "execution_count": 10,
   "metadata": {},
   "outputs": [],
   "source": [
    "series.drop('transaction_id',axis=1,inplace=True)"
   ]
  },
  {
   "cell_type": "code",
   "execution_count": 11,
   "metadata": {},
   "outputs": [
    {
     "name": "stdout",
     "output_type": "stream",
     "text": [
      "<class 'pandas.core.frame.DataFrame'>\n",
      "DatetimeIndex: 1215224 entries, 2017-11-28 to 2017-04-11\n",
      "Data columns (total 1 columns):\n",
      " #   Column  Non-Null Count    Dtype  \n",
      "---  ------  --------------    -----  \n",
      " 0   value   1215224 non-null  float64\n",
      "dtypes: float64(1)\n",
      "memory usage: 18.5 MB\n"
     ]
    }
   ],
   "source": [
    "series.info()"
   ]
  },
  {
   "cell_type": "code",
   "execution_count": 12,
   "metadata": {},
   "outputs": [],
   "source": [
    "upsampled = series.resample('3M')"
   ]
  },
  {
   "cell_type": "code",
   "execution_count": 13,
   "metadata": {},
   "outputs": [],
   "source": [
    "quarter_sales = upsampled.mean()"
   ]
  },
  {
   "cell_type": "code",
   "execution_count": 14,
   "metadata": {},
   "outputs": [
    {
     "name": "stdout",
     "output_type": "stream",
     "text": [
      "                       value\n",
      "transaction_date            \n",
      "2016-12-31         92.588989\n",
      "2017-03-31         66.843703\n",
      "2017-06-30         78.760696\n",
      "2017-09-30         88.032725\n",
      "2017-12-31        107.970418\n",
      "2018-03-31        153.946528\n"
     ]
    }
   ],
   "source": [
    "print (quarter_sales)"
   ]
  },
  {
   "cell_type": "code",
   "execution_count": 15,
   "metadata": {},
   "outputs": [
    {
     "data": {
      "image/png": "[encoded data removed]",
      "text/plain": [
       "<Figure size 720x360 with 1 Axes>"
      ]
     },
     "metadata": {
      "needs_background": "light"
     },
     "output_type": "display_data"
    }
   ],
   "source": [
    "from statsmodels.graphics.tsaplots import plot_acf\n",
    "from statsmodels.graphics.tsaplots import plot_pacf\n",
    "from matplotlib import pyplot\n",
    "quarter_sales.plot(figsize=(10,5), linewidth=3, fontsize=10, title='Average sales every three months')\n",
    "pyplot.show()"
   ]
  }
 ],
 "metadata": {
  "kernelspec": {
   "display_name": "Python 3",
   "language": "python",
   "name": "python3"
  },
  "language_info": {
   "codemirror_mode": {
    "name": "ipython",
    "version": 3
   },
   "file_extension": ".py",
   "mimetype": "text/x-python",
   "name": "python",
   "nbconvert_exporter": "python",
   "pygments_lexer": "ipython3",
   "version": "3.8.5"
  }
 },
 "nbformat": 4,
 "nbformat_minor": 1
}
